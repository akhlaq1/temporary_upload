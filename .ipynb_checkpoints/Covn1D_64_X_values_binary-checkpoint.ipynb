{
 "cells": [
  {
   "cell_type": "code",
   "execution_count": 81,
   "metadata": {},
   "outputs": [],
   "source": [
    "import pandas as pd\n",
    "import numpy as np\n",
    "from keras.models import Sequential\n",
    "from keras.layers import Dense, Conv1D, Dropout, Flatten, MaxPooling1D\n",
    "from keras.wrappers.scikit_learn import KerasClassifier\n",
    "from sklearn.model_selection import cross_val_score\n",
    "from sklearn.preprocessing import LabelEncoder\n",
    "from sklearn.model_selection import StratifiedKFold\n",
    "from sklearn.preprocessing import StandardScaler\n",
    "from sklearn.pipeline import Pipeline\n",
    "from sklearn import preprocessing\n"
   ]
  },
  {
   "cell_type": "code",
   "execution_count": 49,
   "metadata": {},
   "outputs": [],
   "source": [
    "df = pd.read_csv(\"data.csv\")\n",
    "df = df.drop(columns= [\"Unnamed: 0\"])\n"
   ]
  },
  {
   "cell_type": "code",
   "execution_count": 50,
   "metadata": {},
   "outputs": [
    {
     "data": {
      "text/html": [
       "<div>\n",
       "<style scoped>\n",
       "    .dataframe tbody tr th:only-of-type {\n",
       "        vertical-align: middle;\n",
       "    }\n",
       "\n",
       "    .dataframe tbody tr th {\n",
       "        vertical-align: top;\n",
       "    }\n",
       "\n",
       "    .dataframe thead th {\n",
       "        text-align: right;\n",
       "    }\n",
       "</style>\n",
       "<table border=\"1\" class=\"dataframe\">\n",
       "  <thead>\n",
       "    <tr style=\"text-align: right;\">\n",
       "      <th></th>\n",
       "      <th>Yield</th>\n",
       "      <th>B10702</th>\n",
       "      <th>B20702</th>\n",
       "      <th>B30702</th>\n",
       "      <th>B40702</th>\n",
       "      <th>B50702</th>\n",
       "      <th>B610702</th>\n",
       "      <th>B620702</th>\n",
       "      <th>B70702</th>\n",
       "      <th>MSAVI20702</th>\n",
       "      <th>...</th>\n",
       "      <th>NBR0817</th>\n",
       "      <th>NBR20817</th>\n",
       "      <th>JulyPrecip</th>\n",
       "      <th>AugustPrecip</th>\n",
       "      <th>JulySnow</th>\n",
       "      <th>AugustSnow</th>\n",
       "      <th>JulyTmax</th>\n",
       "      <th>AugustTmax</th>\n",
       "      <th>JulyTmin</th>\n",
       "      <th>AugustTmin</th>\n",
       "    </tr>\n",
       "  </thead>\n",
       "  <tbody>\n",
       "    <tr>\n",
       "      <th>0</th>\n",
       "      <td>76.3</td>\n",
       "      <td>87</td>\n",
       "      <td>76</td>\n",
       "      <td>81</td>\n",
       "      <td>88</td>\n",
       "      <td>148</td>\n",
       "      <td>147</td>\n",
       "      <td>179</td>\n",
       "      <td>100</td>\n",
       "      <td>-55</td>\n",
       "      <td>...</td>\n",
       "      <td>-0.125984</td>\n",
       "      <td>-0.091603</td>\n",
       "      <td>0.047042</td>\n",
       "      <td>0.047042</td>\n",
       "      <td>-0.002958</td>\n",
       "      <td>-0.002958</td>\n",
       "      <td>81.637042</td>\n",
       "      <td>81.577042</td>\n",
       "      <td>58.827042</td>\n",
       "      <td>57.057042</td>\n",
       "    </tr>\n",
       "    <tr>\n",
       "      <th>1</th>\n",
       "      <td>99.9</td>\n",
       "      <td>86</td>\n",
       "      <td>74</td>\n",
       "      <td>75</td>\n",
       "      <td>96</td>\n",
       "      <td>137</td>\n",
       "      <td>146</td>\n",
       "      <td>175</td>\n",
       "      <td>89</td>\n",
       "      <td>-109</td>\n",
       "      <td>...</td>\n",
       "      <td>-0.157895</td>\n",
       "      <td>-0.172131</td>\n",
       "      <td>0.049405</td>\n",
       "      <td>0.049405</td>\n",
       "      <td>-0.000595</td>\n",
       "      <td>-0.000595</td>\n",
       "      <td>81.639405</td>\n",
       "      <td>81.579405</td>\n",
       "      <td>58.829405</td>\n",
       "      <td>57.059405</td>\n",
       "    </tr>\n",
       "    <tr>\n",
       "      <th>2</th>\n",
       "      <td>99.2</td>\n",
       "      <td>86</td>\n",
       "      <td>74</td>\n",
       "      <td>75</td>\n",
       "      <td>96</td>\n",
       "      <td>137</td>\n",
       "      <td>146</td>\n",
       "      <td>175</td>\n",
       "      <td>89</td>\n",
       "      <td>-109</td>\n",
       "      <td>...</td>\n",
       "      <td>-0.157895</td>\n",
       "      <td>-0.172131</td>\n",
       "      <td>0.049745</td>\n",
       "      <td>0.049745</td>\n",
       "      <td>-0.000255</td>\n",
       "      <td>-0.000255</td>\n",
       "      <td>81.639745</td>\n",
       "      <td>81.579745</td>\n",
       "      <td>58.829745</td>\n",
       "      <td>57.059745</td>\n",
       "    </tr>\n",
       "    <tr>\n",
       "      <th>3</th>\n",
       "      <td>73.0</td>\n",
       "      <td>86</td>\n",
       "      <td>74</td>\n",
       "      <td>75</td>\n",
       "      <td>96</td>\n",
       "      <td>137</td>\n",
       "      <td>146</td>\n",
       "      <td>175</td>\n",
       "      <td>89</td>\n",
       "      <td>-109</td>\n",
       "      <td>...</td>\n",
       "      <td>-0.157895</td>\n",
       "      <td>-0.172131</td>\n",
       "      <td>0.045291</td>\n",
       "      <td>0.045291</td>\n",
       "      <td>-0.004709</td>\n",
       "      <td>-0.004709</td>\n",
       "      <td>81.635291</td>\n",
       "      <td>81.575291</td>\n",
       "      <td>58.825291</td>\n",
       "      <td>57.055291</td>\n",
       "    </tr>\n",
       "    <tr>\n",
       "      <th>4</th>\n",
       "      <td>15.7</td>\n",
       "      <td>86</td>\n",
       "      <td>74</td>\n",
       "      <td>75</td>\n",
       "      <td>96</td>\n",
       "      <td>137</td>\n",
       "      <td>146</td>\n",
       "      <td>175</td>\n",
       "      <td>89</td>\n",
       "      <td>-109</td>\n",
       "      <td>...</td>\n",
       "      <td>-0.157895</td>\n",
       "      <td>-0.172131</td>\n",
       "      <td>0.047981</td>\n",
       "      <td>0.047981</td>\n",
       "      <td>-0.002019</td>\n",
       "      <td>-0.002019</td>\n",
       "      <td>81.637981</td>\n",
       "      <td>81.577981</td>\n",
       "      <td>58.827981</td>\n",
       "      <td>57.057981</td>\n",
       "    </tr>\n",
       "  </tbody>\n",
       "</table>\n",
       "<p>5 rows × 65 columns</p>\n",
       "</div>"
      ],
      "text/plain": [
       "   Yield  B10702  B20702  B30702  B40702  B50702  B610702  B620702  B70702  \\\n",
       "0   76.3      87      76      81      88     148      147      179     100   \n",
       "1   99.9      86      74      75      96     137      146      175      89   \n",
       "2   99.2      86      74      75      96     137      146      175      89   \n",
       "3   73.0      86      74      75      96     137      146      175      89   \n",
       "4   15.7      86      74      75      96     137      146      175      89   \n",
       "\n",
       "   MSAVI20702  ...   NBR0817  NBR20817  JulyPrecip  AugustPrecip  JulySnow  \\\n",
       "0         -55  ... -0.125984 -0.091603    0.047042      0.047042 -0.002958   \n",
       "1        -109  ... -0.157895 -0.172131    0.049405      0.049405 -0.000595   \n",
       "2        -109  ... -0.157895 -0.172131    0.049745      0.049745 -0.000255   \n",
       "3        -109  ... -0.157895 -0.172131    0.045291      0.045291 -0.004709   \n",
       "4        -109  ... -0.157895 -0.172131    0.047981      0.047981 -0.002019   \n",
       "\n",
       "   AugustSnow   JulyTmax  AugustTmax   JulyTmin  AugustTmin  \n",
       "0   -0.002958  81.637042   81.577042  58.827042   57.057042  \n",
       "1   -0.000595  81.639405   81.579405  58.829405   57.059405  \n",
       "2   -0.000255  81.639745   81.579745  58.829745   57.059745  \n",
       "3   -0.004709  81.635291   81.575291  58.825291   57.055291  \n",
       "4   -0.002019  81.637981   81.577981  58.827981   57.057981  \n",
       "\n",
       "[5 rows x 65 columns]"
      ]
     },
     "execution_count": 50,
     "metadata": {},
     "output_type": "execute_result"
    }
   ],
   "source": [
    "df.head()"
   ]
  },
  {
   "cell_type": "code",
   "execution_count": 51,
   "metadata": {},
   "outputs": [],
   "source": [
    "# Create x, where x the 'scores' column's values as floats\n",
    "x = df[['Yield']].values.astype(float)\n",
    "\n",
    "# Create a minimum and maximum processor object\n",
    "min_max_scaler = preprocessing.MinMaxScaler()\n",
    "\n",
    "# Create an object to transform the data to fit minmax processor\n",
    "x_scaled = min_max_scaler.fit_transform(x)\n",
    "\n",
    "# Run the normalizer on the dataframe\n",
    "Y_df = pd.DataFrame(x_scaled)"
   ]
  },
  {
   "cell_type": "code",
   "execution_count": 52,
   "metadata": {},
   "outputs": [
    {
     "data": {
      "text/plain": [
       "array([[0.17598877],\n",
       "       [0.23121928],\n",
       "       [0.22958109],\n",
       "       ...,\n",
       "       [0.13854435],\n",
       "       [0.042359  ],\n",
       "       [0.36087058]])"
      ]
     },
     "execution_count": 52,
     "metadata": {},
     "output_type": "execute_result"
    }
   ],
   "source": [
    "Y =np.asarray(Y)\n",
    "Y"
   ]
  },
  {
   "cell_type": "code",
   "execution_count": 58,
   "metadata": {},
   "outputs": [
    {
     "data": {
      "text/plain": [
       "array([[155.29999883]])"
      ]
     },
     "execution_count": 58,
     "metadata": {},
     "output_type": "execute_result"
    }
   ],
   "source": [
    "min_max_scaler.inverse_transform(pd.DataFrame(np.array([0.36087058])))"
   ]
  },
  {
   "cell_type": "code",
   "execution_count": 63,
   "metadata": {},
   "outputs": [],
   "source": [
    "X = np.asarray(df.drop(columns=[\"Yield\"]))"
   ]
  },
  {
   "cell_type": "code",
   "execution_count": 65,
   "metadata": {},
   "outputs": [],
   "source": [
    "from sklearn.model_selection import train_test_split\n",
    "X_train, X_test, y_train, y_test = train_test_split(X, Y, test_size=0.3, random_state=0)"
   ]
  },
  {
   "cell_type": "code",
   "execution_count": 87,
   "metadata": {},
   "outputs": [],
   "source": [
    "# fit and evaluate a model\n",
    "def evaluate_model(trainX, trainy, testX, testy):\n",
    "    verbose, epochs, batch_size = 0, 10, 32\n",
    "    n_timesteps, n_features, n_outputs = trainX.shape[0], trainX.shape[1], trainy.shape[0]\n",
    "    model = Sequential()\n",
    "    model.add(Conv1D(filters=64, kernel_size=2,  activation='relu', input_shape=(n_timesteps,n_features)))\n",
    "    model.add(Conv1D(filters=64, kernel_size=2, activation='relu'))\n",
    "    model.add(Dropout(0.5))\n",
    "    model.add(MaxPooling1D(pool_size=2))\n",
    "    model.add(Flatten())\n",
    "    model.add(Dense(100, activation='relu'))\n",
    "    model.add(Dense(n_outputs, activation='sigmoid'))\n",
    "    model.compile(loss='binary_crossentropy', optimizer='adam', metrics=['accuracy'])\n",
    "    # fit network\n",
    "    model.fit(trainX, trainy, epochs=epochs, batch_size=batch_size, verbose=verbose)\n",
    "    # evaluate model\n",
    "    _, accuracy = model.evaluate(testX, testy, batch_size=batch_size, verbose=0)\n",
    "    return accuracy"
   ]
  },
  {
   "cell_type": "code",
   "execution_count": 88,
   "metadata": {},
   "outputs": [
    {
     "ename": "TypeError",
     "evalue": "__init__() missing 1 required positional argument: 'kernel_size'",
     "output_type": "error",
     "traceback": [
      "\u001b[1;31m---------------------------------------------------------------------------\u001b[0m",
      "\u001b[1;31mTypeError\u001b[0m                                 Traceback (most recent call last)",
      "\u001b[1;32m<ipython-input-88-c4ef8abbc71e>\u001b[0m in \u001b[0;36m<module>\u001b[1;34m\u001b[0m\n\u001b[1;32m----> 1\u001b[1;33m \u001b[0mevaluate_model\u001b[0m\u001b[1;33m(\u001b[0m\u001b[0mX_train\u001b[0m\u001b[1;33m,\u001b[0m\u001b[0my_train\u001b[0m\u001b[1;33m,\u001b[0m\u001b[0mX_test\u001b[0m\u001b[1;33m,\u001b[0m\u001b[0my_test\u001b[0m\u001b[1;33m)\u001b[0m\u001b[1;33m\u001b[0m\u001b[1;33m\u001b[0m\u001b[0m\n\u001b[0m",
      "\u001b[1;32m<ipython-input-87-84336b3b6ef9>\u001b[0m in \u001b[0;36mevaluate_model\u001b[1;34m(trainX, trainy, testX, testy)\u001b[0m\n\u001b[0;32m      4\u001b[0m     \u001b[0mn_timesteps\u001b[0m\u001b[1;33m,\u001b[0m \u001b[0mn_features\u001b[0m\u001b[1;33m,\u001b[0m \u001b[0mn_outputs\u001b[0m \u001b[1;33m=\u001b[0m \u001b[0mtrainX\u001b[0m\u001b[1;33m.\u001b[0m\u001b[0mshape\u001b[0m\u001b[1;33m[\u001b[0m\u001b[1;36m0\u001b[0m\u001b[1;33m]\u001b[0m\u001b[1;33m,\u001b[0m \u001b[0mtrainX\u001b[0m\u001b[1;33m.\u001b[0m\u001b[0mshape\u001b[0m\u001b[1;33m[\u001b[0m\u001b[1;36m1\u001b[0m\u001b[1;33m]\u001b[0m\u001b[1;33m,\u001b[0m \u001b[0mtrainy\u001b[0m\u001b[1;33m.\u001b[0m\u001b[0mshape\u001b[0m\u001b[1;33m[\u001b[0m\u001b[1;36m0\u001b[0m\u001b[1;33m]\u001b[0m\u001b[1;33m\u001b[0m\u001b[1;33m\u001b[0m\u001b[0m\n\u001b[0;32m      5\u001b[0m     \u001b[0mmodel\u001b[0m \u001b[1;33m=\u001b[0m \u001b[0mSequential\u001b[0m\u001b[1;33m(\u001b[0m\u001b[1;33m)\u001b[0m\u001b[1;33m\u001b[0m\u001b[1;33m\u001b[0m\u001b[0m\n\u001b[1;32m----> 6\u001b[1;33m     \u001b[0mmodel\u001b[0m\u001b[1;33m.\u001b[0m\u001b[0madd\u001b[0m\u001b[1;33m(\u001b[0m\u001b[0mConv1D\u001b[0m\u001b[1;33m(\u001b[0m\u001b[0mfilters\u001b[0m\u001b[1;33m=\u001b[0m\u001b[1;36m64\u001b[0m\u001b[1;33m,\u001b[0m  \u001b[0mactivation\u001b[0m\u001b[1;33m=\u001b[0m\u001b[1;34m'relu'\u001b[0m\u001b[1;33m,\u001b[0m \u001b[0minput_shape\u001b[0m\u001b[1;33m=\u001b[0m\u001b[1;33m(\u001b[0m\u001b[0mn_timesteps\u001b[0m\u001b[1;33m,\u001b[0m\u001b[0mn_features\u001b[0m\u001b[1;33m)\u001b[0m\u001b[1;33m)\u001b[0m\u001b[1;33m)\u001b[0m\u001b[1;33m\u001b[0m\u001b[1;33m\u001b[0m\u001b[0m\n\u001b[0m\u001b[0;32m      7\u001b[0m     \u001b[0mmodel\u001b[0m\u001b[1;33m.\u001b[0m\u001b[0madd\u001b[0m\u001b[1;33m(\u001b[0m\u001b[0mConv1D\u001b[0m\u001b[1;33m(\u001b[0m\u001b[0mfilters\u001b[0m\u001b[1;33m=\u001b[0m\u001b[1;36m64\u001b[0m\u001b[1;33m,\u001b[0m  \u001b[0mactivation\u001b[0m\u001b[1;33m=\u001b[0m\u001b[1;34m'relu'\u001b[0m\u001b[1;33m)\u001b[0m\u001b[1;33m)\u001b[0m\u001b[1;33m\u001b[0m\u001b[1;33m\u001b[0m\u001b[0m\n\u001b[0;32m      8\u001b[0m     \u001b[0mmodel\u001b[0m\u001b[1;33m.\u001b[0m\u001b[0madd\u001b[0m\u001b[1;33m(\u001b[0m\u001b[0mDropout\u001b[0m\u001b[1;33m(\u001b[0m\u001b[1;36m0.5\u001b[0m\u001b[1;33m)\u001b[0m\u001b[1;33m)\u001b[0m\u001b[1;33m\u001b[0m\u001b[1;33m\u001b[0m\u001b[0m\n",
      "\u001b[1;32mC:\\ProgramData\\Anaconda3\\lib\\site-packages\\keras\\legacy\\interfaces.py\u001b[0m in \u001b[0;36mwrapper\u001b[1;34m(*args, **kwargs)\u001b[0m\n\u001b[0;32m     89\u001b[0m                 warnings.warn('Update your `' + object_name + '` call to the ' +\n\u001b[0;32m     90\u001b[0m                               'Keras 2 API: ' + signature, stacklevel=2)\n\u001b[1;32m---> 91\u001b[1;33m             \u001b[1;32mreturn\u001b[0m \u001b[0mfunc\u001b[0m\u001b[1;33m(\u001b[0m\u001b[1;33m*\u001b[0m\u001b[0margs\u001b[0m\u001b[1;33m,\u001b[0m \u001b[1;33m**\u001b[0m\u001b[0mkwargs\u001b[0m\u001b[1;33m)\u001b[0m\u001b[1;33m\u001b[0m\u001b[1;33m\u001b[0m\u001b[0m\n\u001b[0m\u001b[0;32m     92\u001b[0m         \u001b[0mwrapper\u001b[0m\u001b[1;33m.\u001b[0m\u001b[0m_original_function\u001b[0m \u001b[1;33m=\u001b[0m \u001b[0mfunc\u001b[0m\u001b[1;33m\u001b[0m\u001b[1;33m\u001b[0m\u001b[0m\n\u001b[0;32m     93\u001b[0m         \u001b[1;32mreturn\u001b[0m \u001b[0mwrapper\u001b[0m\u001b[1;33m\u001b[0m\u001b[1;33m\u001b[0m\u001b[0m\n",
      "\u001b[1;31mTypeError\u001b[0m: __init__() missing 1 required positional argument: 'kernel_size'"
     ]
    }
   ],
   "source": [
    "evaluate_model(X_train,y_train,X_test,y_test)"
   ]
  },
  {
   "cell_type": "code",
   "execution_count": 74,
   "metadata": {},
   "outputs": [
    {
     "data": {
      "text/plain": [
       "64"
      ]
     },
     "execution_count": 74,
     "metadata": {},
     "output_type": "execute_result"
    }
   ],
   "source": [
    "X_train.shape[1]"
   ]
  },
  {
   "cell_type": "code",
   "execution_count": null,
   "metadata": {},
   "outputs": [],
   "source": []
  }
 ],
 "metadata": {
  "kernelspec": {
   "display_name": "Python 3",
   "language": "python",
   "name": "python3"
  },
  "language_info": {
   "codemirror_mode": {
    "name": "ipython",
    "version": 3
   },
   "file_extension": ".py",
   "mimetype": "text/x-python",
   "name": "python",
   "nbconvert_exporter": "python",
   "pygments_lexer": "ipython3",
   "version": "3.7.3"
  }
 },
 "nbformat": 4,
 "nbformat_minor": 2
}
